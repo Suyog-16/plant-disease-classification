{
 "cells": [
  {
   "cell_type": "code",
   "execution_count": 9,
   "metadata": {},
   "outputs": [],
   "source": [
    "import torch\n",
    "from torch import nn"
   ]
  },
  {
   "cell_type": "code",
   "execution_count": 14,
   "metadata": {},
   "outputs": [],
   "source": [
    "from pathlib import Path\n",
    "data_path = Path(\"data/\")\n",
    "image_path = data_path / \"PlantVillageDataset\""
   ]
  },
  {
   "cell_type": "code",
   "execution_count": 15,
   "metadata": {},
   "outputs": [],
   "source": [
    "# setting up our training and testing paths.\n",
    "train_dir = image_path / \"train\"\n",
    "test_dir = image_path / \"test\""
   ]
  },
  {
   "cell_type": "code",
   "execution_count": 16,
   "metadata": {},
   "outputs": [
    {
     "data": {
      "text/plain": [
       "(WindowsPath('data/PlantVillageDataset/train'),\n",
       " WindowsPath('data/PlantVillageDataset/test'))"
      ]
     },
     "execution_count": 16,
     "metadata": {},
     "output_type": "execute_result"
    }
   ],
   "source": [
    "train_dir,test_dir"
   ]
  },
  {
   "cell_type": "code",
   "execution_count": 17,
   "metadata": {},
   "outputs": [
    {
     "name": "stdout",
     "output_type": "stream",
     "text": [
      "There are 2 directories and 0 images in data\\PlantVillageDataset\n",
      "There are 10 directories and 0 images in data\\PlantVillageDataset\\test\n",
      "There are 0 directories and 426 images in data\\PlantVillageDataset\\test\\Tomato_Bacterial_spot\n",
      "There are 0 directories and 200 images in data\\PlantVillageDataset\\test\\Tomato_Early_blight\n",
      "There are 0 directories and 319 images in data\\PlantVillageDataset\\test\\Tomato_healthy\n",
      "There are 0 directories and 382 images in data\\PlantVillageDataset\\test\\Tomato_Late_blight\n",
      "There are 0 directories and 191 images in data\\PlantVillageDataset\\test\\Tomato_Leaf_Mold\n",
      "There are 0 directories and 355 images in data\\PlantVillageDataset\\test\\Tomato_Septoria_leaf_spot\n",
      "There are 0 directories and 336 images in data\\PlantVillageDataset\\test\\Tomato_Spider_mites_Two_spotted_spider_mite\n",
      "There are 0 directories and 281 images in data\\PlantVillageDataset\\test\\Tomato__Target_Spot\n",
      "There are 0 directories and 75 images in data\\PlantVillageDataset\\test\\Tomato__Tomato_mosaic_virus\n",
      "There are 0 directories and 642 images in data\\PlantVillageDataset\\test\\Tomato__Tomato_YellowLeaf__Curl_Virus\n",
      "There are 10 directories and 0 images in data\\PlantVillageDataset\\train\n",
      "There are 0 directories and 1701 images in data\\PlantVillageDataset\\train\\Tomato_Bacterial_spot\n",
      "There are 0 directories and 800 images in data\\PlantVillageDataset\\train\\Tomato_Early_blight\n",
      "There are 0 directories and 1272 images in data\\PlantVillageDataset\\train\\Tomato_healthy\n",
      "There are 0 directories and 1527 images in data\\PlantVillageDataset\\train\\Tomato_Late_blight\n",
      "There are 0 directories and 761 images in data\\PlantVillageDataset\\train\\Tomato_Leaf_Mold\n",
      "There are 0 directories and 1416 images in data\\PlantVillageDataset\\train\\Tomato_Septoria_leaf_spot\n",
      "There are 0 directories and 1340 images in data\\PlantVillageDataset\\train\\Tomato_Spider_mites_Two_spotted_spider_mite\n",
      "There are 0 directories and 1123 images in data\\PlantVillageDataset\\train\\Tomato__Target_Spot\n",
      "There are 0 directories and 298 images in data\\PlantVillageDataset\\train\\Tomato__Tomato_mosaic_virus\n",
      "There are 0 directories and 2567 images in data\\PlantVillageDataset\\train\\Tomato__Tomato_YellowLeaf__Curl_Virus\n"
     ]
    }
   ],
   "source": [
    "from utils import walkthrough_dir\n",
    "walkthrough_dir(image_path)"
   ]
  },
  {
   "cell_type": "code",
   "execution_count": null,
   "metadata": {},
   "outputs": [],
   "source": []
  }
 ],
 "metadata": {
  "kernelspec": {
   "display_name": "env",
   "language": "python",
   "name": "python3"
  },
  "language_info": {
   "codemirror_mode": {
    "name": "ipython",
    "version": 3
   },
   "file_extension": ".py",
   "mimetype": "text/x-python",
   "name": "python",
   "nbconvert_exporter": "python",
   "pygments_lexer": "ipython3",
   "version": "3.12.3"
  }
 },
 "nbformat": 4,
 "nbformat_minor": 2
}
